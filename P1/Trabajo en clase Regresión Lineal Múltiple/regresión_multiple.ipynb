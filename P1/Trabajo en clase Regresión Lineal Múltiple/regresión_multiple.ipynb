{
 "cells": [
  {
   "cell_type": "code",
   "execution_count": 9,
   "id": "21b02ab7",
   "metadata": {},
   "outputs": [],
   "source": [
    "#Librerias\n",
    "\n",
    "import numpy as np\n",
    "import matplotlib.pyplot as plt\n",
    "import pandas as pd\n",
    "from sklearn.compose import ColumnTransformer\n",
    "from sklearn.preprocessing import OneHotEncoder\n"
   ]
  },
  {
   "cell_type": "code",
   "execution_count": 4,
   "id": "c6d51668",
   "metadata": {},
   "outputs": [],
   "source": [
    "dataset = pd.read_csv('50_Startups.csv') # Importar el dataset"
   ]
  },
  {
   "cell_type": "code",
   "execution_count": 5,
   "id": "2e5a7149",
   "metadata": {},
   "outputs": [],
   "source": [
    "X = dataset.iloc[:,:-1].values # Matriz de caracteristicas\n",
    "y = dataset.iloc[:,-1].values # Vector de resultados\n",
    "\n",
    "#Entender iloc\n",
    "#iloc[filas, columnas]\n",
    "#dataset.iloc[:,:-1] # Todas las filas y todas las columnas menos la ultima\n",
    "#dataset.iloc[:,-1] # Todas las filas y la ultima columna\n",
    "#dataset.iloc[0:5,:] # Las 5 primeras filas y todas las columnas"
   ]
  },
  {
   "cell_type": "code",
   "execution_count": null,
   "id": "0c30e092",
   "metadata": {},
   "outputs": [],
   "source": [
    "ct = ColumnTransformer(transformers=[('encoder', OneHotEncoder(), [3])], remainder='passthrough') # Codificar la variable categorica\n"
   ]
  }
 ],
 "metadata": {
  "kernelspec": {
   "display_name": "base",
   "language": "python",
   "name": "python3"
  },
  "language_info": {
   "codemirror_mode": {
    "name": "ipython",
    "version": 3
   },
   "file_extension": ".py",
   "mimetype": "text/x-python",
   "name": "python",
   "nbconvert_exporter": "python",
   "pygments_lexer": "ipython3",
   "version": "3.12.7"
  }
 },
 "nbformat": 4,
 "nbformat_minor": 5
}
