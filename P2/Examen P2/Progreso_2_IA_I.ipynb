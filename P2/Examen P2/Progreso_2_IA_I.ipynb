{
  "nbformat": 4,
  "nbformat_minor": 0,
  "metadata": {
    "colab": {
      "provenance": []
    },
    "kernelspec": {
      "name": "python3",
      "display_name": "Python 3"
    },
    "language_info": {
      "name": "python"
    }
  },
  "cells": [
    {
      "cell_type": "markdown",
      "source": [
        "#Universidad de las Américas\n",
        "#Progreso II\n",
        "Edwing García\n",
        "Inteligencia Artificial I\n",
        "\n",
        "\n",
        "---\n",
        "\n"
      ],
      "metadata": {
        "id": "gVxMJHODkXhw"
      }
    },
    {
      "cell_type": "markdown",
      "source": [
        "PROGRESO II – Inteligencia Artificial I\n",
        "Examen de Aprendizaje Supervisado: Modelos de Clasificación\n",
        "Instrucciones\n",
        "Utiliza los archivos hospital_data 1.csv y students_data 1.csv para responder las siguientes\n",
        "preguntas. Escribe tu código en las celdas correspondientes.\n",
        "1. Cargar los datos\n",
        "Carga ambos archivos CSV en dos DataFrames de pandas.\n"
      ],
      "metadata": {
        "id": "SanlikcCYIUl"
      }
    },
    {
      "cell_type": "code",
      "source": [
        "import pandas as pd\n",
        "from sklearn.preprocessing import LabelEncoder, StandardScaler\n",
        "from sklearn.model_selection import train_test_split\n",
        "from sklearn.linear_model import LogisticRegression\n",
        "from sklearn.tree import DecisionTreeClassifier\n",
        "from sklearn.neighbors import KNeighborsClassifier\n",
        "from sklearn.svm import SVC\n",
        "from sklearn.metrics import accuracy_score, precision_score, recall_score, f1_score, confusion_matrix\n",
        "import matplotlib.pyplot as plt\n",
        "import seaborn as sns\n",
        "\n",
        "\n",
        "df1=pd.read_csv('hospital_data.csv')\n",
        "df2=pd.read_csv('students_data.csv')"
      ],
      "metadata": {
        "id": "HOXFjQ7wYce_"
      },
      "execution_count": 77,
      "outputs": []
    },
    {
      "cell_type": "markdown",
      "source": [
        "2. Exploración inicial\n",
        "Muestra las primeras 5 filas y las estadísticas descriptivas de cada conjunto de datos.\n"
      ],
      "metadata": {
        "id": "79IymHkcYNvd"
      }
    },
    {
      "cell_type": "code",
      "source": [
        "df1.head()"
      ],
      "metadata": {
        "colab": {
          "base_uri": "https://localhost:8080/",
          "height": 206
        },
        "id": "OM8C9baPZYrr",
        "outputId": "1f98253e-66ca-431b-c335-c17f92ed4366"
      },
      "execution_count": 36,
      "outputs": [
        {
          "output_type": "execute_result",
          "data": {
            "text/plain": [
              "        Age  Blood_Pressure  Cholesterol  Heart_Rate  Gender  Diagnosis  \\\n",
              "0  0.063332       -0.547694    -0.036711    1.399138       1          0   \n",
              "1  1.450401       -1.440598     0.970593   -1.473657       0          1   \n",
              "2 -1.188414       -0.341639    -0.708247    0.789757       1          2   \n",
              "3  0.739951        1.135087     0.052827   -1.299548       1          2   \n",
              "4  0.367810       -0.272954    -0.529170   -0.167841       0          2   \n",
              "\n",
              "   Smoker  Exercise Risk_Level  \n",
              "0       0         2  High Risk  \n",
              "1       0         0  High Risk  \n",
              "2       0         0   Low Risk  \n",
              "3       1         2  High Risk  \n",
              "4       1         0  High Risk  "
            ],
            "text/html": [
              "\n",
              "  <div id=\"df-b53d2d9d-2fc1-4b48-ab67-c46553ed77b2\" class=\"colab-df-container\">\n",
              "    <div>\n",
              "<style scoped>\n",
              "    .dataframe tbody tr th:only-of-type {\n",
              "        vertical-align: middle;\n",
              "    }\n",
              "\n",
              "    .dataframe tbody tr th {\n",
              "        vertical-align: top;\n",
              "    }\n",
              "\n",
              "    .dataframe thead th {\n",
              "        text-align: right;\n",
              "    }\n",
              "</style>\n",
              "<table border=\"1\" class=\"dataframe\">\n",
              "  <thead>\n",
              "    <tr style=\"text-align: right;\">\n",
              "      <th></th>\n",
              "      <th>Age</th>\n",
              "      <th>Blood_Pressure</th>\n",
              "      <th>Cholesterol</th>\n",
              "      <th>Heart_Rate</th>\n",
              "      <th>Gender</th>\n",
              "      <th>Diagnosis</th>\n",
              "      <th>Smoker</th>\n",
              "      <th>Exercise</th>\n",
              "      <th>Risk_Level</th>\n",
              "    </tr>\n",
              "  </thead>\n",
              "  <tbody>\n",
              "    <tr>\n",
              "      <th>0</th>\n",
              "      <td>0.063332</td>\n",
              "      <td>-0.547694</td>\n",
              "      <td>-0.036711</td>\n",
              "      <td>1.399138</td>\n",
              "      <td>1</td>\n",
              "      <td>0</td>\n",
              "      <td>0</td>\n",
              "      <td>2</td>\n",
              "      <td>High Risk</td>\n",
              "    </tr>\n",
              "    <tr>\n",
              "      <th>1</th>\n",
              "      <td>1.450401</td>\n",
              "      <td>-1.440598</td>\n",
              "      <td>0.970593</td>\n",
              "      <td>-1.473657</td>\n",
              "      <td>0</td>\n",
              "      <td>1</td>\n",
              "      <td>0</td>\n",
              "      <td>0</td>\n",
              "      <td>High Risk</td>\n",
              "    </tr>\n",
              "    <tr>\n",
              "      <th>2</th>\n",
              "      <td>-1.188414</td>\n",
              "      <td>-0.341639</td>\n",
              "      <td>-0.708247</td>\n",
              "      <td>0.789757</td>\n",
              "      <td>1</td>\n",
              "      <td>2</td>\n",
              "      <td>0</td>\n",
              "      <td>0</td>\n",
              "      <td>Low Risk</td>\n",
              "    </tr>\n",
              "    <tr>\n",
              "      <th>3</th>\n",
              "      <td>0.739951</td>\n",
              "      <td>1.135087</td>\n",
              "      <td>0.052827</td>\n",
              "      <td>-1.299548</td>\n",
              "      <td>1</td>\n",
              "      <td>2</td>\n",
              "      <td>1</td>\n",
              "      <td>2</td>\n",
              "      <td>High Risk</td>\n",
              "    </tr>\n",
              "    <tr>\n",
              "      <th>4</th>\n",
              "      <td>0.367810</td>\n",
              "      <td>-0.272954</td>\n",
              "      <td>-0.529170</td>\n",
              "      <td>-0.167841</td>\n",
              "      <td>0</td>\n",
              "      <td>2</td>\n",
              "      <td>1</td>\n",
              "      <td>0</td>\n",
              "      <td>High Risk</td>\n",
              "    </tr>\n",
              "  </tbody>\n",
              "</table>\n",
              "</div>\n",
              "    <div class=\"colab-df-buttons\">\n",
              "\n",
              "  <div class=\"colab-df-container\">\n",
              "    <button class=\"colab-df-convert\" onclick=\"convertToInteractive('df-b53d2d9d-2fc1-4b48-ab67-c46553ed77b2')\"\n",
              "            title=\"Convert this dataframe to an interactive table.\"\n",
              "            style=\"display:none;\">\n",
              "\n",
              "  <svg xmlns=\"http://www.w3.org/2000/svg\" height=\"24px\" viewBox=\"0 -960 960 960\">\n",
              "    <path d=\"M120-120v-720h720v720H120Zm60-500h600v-160H180v160Zm220 220h160v-160H400v160Zm0 220h160v-160H400v160ZM180-400h160v-160H180v160Zm440 0h160v-160H620v160ZM180-180h160v-160H180v160Zm440 0h160v-160H620v160Z\"/>\n",
              "  </svg>\n",
              "    </button>\n",
              "\n",
              "  <style>\n",
              "    .colab-df-container {\n",
              "      display:flex;\n",
              "      gap: 12px;\n",
              "    }\n",
              "\n",
              "    .colab-df-convert {\n",
              "      background-color: #E8F0FE;\n",
              "      border: none;\n",
              "      border-radius: 50%;\n",
              "      cursor: pointer;\n",
              "      display: none;\n",
              "      fill: #1967D2;\n",
              "      height: 32px;\n",
              "      padding: 0 0 0 0;\n",
              "      width: 32px;\n",
              "    }\n",
              "\n",
              "    .colab-df-convert:hover {\n",
              "      background-color: #E2EBFA;\n",
              "      box-shadow: 0px 1px 2px rgba(60, 64, 67, 0.3), 0px 1px 3px 1px rgba(60, 64, 67, 0.15);\n",
              "      fill: #174EA6;\n",
              "    }\n",
              "\n",
              "    .colab-df-buttons div {\n",
              "      margin-bottom: 4px;\n",
              "    }\n",
              "\n",
              "    [theme=dark] .colab-df-convert {\n",
              "      background-color: #3B4455;\n",
              "      fill: #D2E3FC;\n",
              "    }\n",
              "\n",
              "    [theme=dark] .colab-df-convert:hover {\n",
              "      background-color: #434B5C;\n",
              "      box-shadow: 0px 1px 3px 1px rgba(0, 0, 0, 0.15);\n",
              "      filter: drop-shadow(0px 1px 2px rgba(0, 0, 0, 0.3));\n",
              "      fill: #FFFFFF;\n",
              "    }\n",
              "  </style>\n",
              "\n",
              "    <script>\n",
              "      const buttonEl =\n",
              "        document.querySelector('#df-b53d2d9d-2fc1-4b48-ab67-c46553ed77b2 button.colab-df-convert');\n",
              "      buttonEl.style.display =\n",
              "        google.colab.kernel.accessAllowed ? 'block' : 'none';\n",
              "\n",
              "      async function convertToInteractive(key) {\n",
              "        const element = document.querySelector('#df-b53d2d9d-2fc1-4b48-ab67-c46553ed77b2');\n",
              "        const dataTable =\n",
              "          await google.colab.kernel.invokeFunction('convertToInteractive',\n",
              "                                                    [key], {});\n",
              "        if (!dataTable) return;\n",
              "\n",
              "        const docLinkHtml = 'Like what you see? Visit the ' +\n",
              "          '<a target=\"_blank\" href=https://colab.research.google.com/notebooks/data_table.ipynb>data table notebook</a>'\n",
              "          + ' to learn more about interactive tables.';\n",
              "        element.innerHTML = '';\n",
              "        dataTable['output_type'] = 'display_data';\n",
              "        await google.colab.output.renderOutput(dataTable, element);\n",
              "        const docLink = document.createElement('div');\n",
              "        docLink.innerHTML = docLinkHtml;\n",
              "        element.appendChild(docLink);\n",
              "      }\n",
              "    </script>\n",
              "  </div>\n",
              "\n",
              "\n",
              "    <div id=\"df-a624274b-0256-4375-8c0b-be131989e2e4\">\n",
              "      <button class=\"colab-df-quickchart\" onclick=\"quickchart('df-a624274b-0256-4375-8c0b-be131989e2e4')\"\n",
              "                title=\"Suggest charts\"\n",
              "                style=\"display:none;\">\n",
              "\n",
              "<svg xmlns=\"http://www.w3.org/2000/svg\" height=\"24px\"viewBox=\"0 0 24 24\"\n",
              "     width=\"24px\">\n",
              "    <g>\n",
              "        <path d=\"M19 3H5c-1.1 0-2 .9-2 2v14c0 1.1.9 2 2 2h14c1.1 0 2-.9 2-2V5c0-1.1-.9-2-2-2zM9 17H7v-7h2v7zm4 0h-2V7h2v10zm4 0h-2v-4h2v4z\"/>\n",
              "    </g>\n",
              "</svg>\n",
              "      </button>\n",
              "\n",
              "<style>\n",
              "  .colab-df-quickchart {\n",
              "      --bg-color: #E8F0FE;\n",
              "      --fill-color: #1967D2;\n",
              "      --hover-bg-color: #E2EBFA;\n",
              "      --hover-fill-color: #174EA6;\n",
              "      --disabled-fill-color: #AAA;\n",
              "      --disabled-bg-color: #DDD;\n",
              "  }\n",
              "\n",
              "  [theme=dark] .colab-df-quickchart {\n",
              "      --bg-color: #3B4455;\n",
              "      --fill-color: #D2E3FC;\n",
              "      --hover-bg-color: #434B5C;\n",
              "      --hover-fill-color: #FFFFFF;\n",
              "      --disabled-bg-color: #3B4455;\n",
              "      --disabled-fill-color: #666;\n",
              "  }\n",
              "\n",
              "  .colab-df-quickchart {\n",
              "    background-color: var(--bg-color);\n",
              "    border: none;\n",
              "    border-radius: 50%;\n",
              "    cursor: pointer;\n",
              "    display: none;\n",
              "    fill: var(--fill-color);\n",
              "    height: 32px;\n",
              "    padding: 0;\n",
              "    width: 32px;\n",
              "  }\n",
              "\n",
              "  .colab-df-quickchart:hover {\n",
              "    background-color: var(--hover-bg-color);\n",
              "    box-shadow: 0 1px 2px rgba(60, 64, 67, 0.3), 0 1px 3px 1px rgba(60, 64, 67, 0.15);\n",
              "    fill: var(--button-hover-fill-color);\n",
              "  }\n",
              "\n",
              "  .colab-df-quickchart-complete:disabled,\n",
              "  .colab-df-quickchart-complete:disabled:hover {\n",
              "    background-color: var(--disabled-bg-color);\n",
              "    fill: var(--disabled-fill-color);\n",
              "    box-shadow: none;\n",
              "  }\n",
              "\n",
              "  .colab-df-spinner {\n",
              "    border: 2px solid var(--fill-color);\n",
              "    border-color: transparent;\n",
              "    border-bottom-color: var(--fill-color);\n",
              "    animation:\n",
              "      spin 1s steps(1) infinite;\n",
              "  }\n",
              "\n",
              "  @keyframes spin {\n",
              "    0% {\n",
              "      border-color: transparent;\n",
              "      border-bottom-color: var(--fill-color);\n",
              "      border-left-color: var(--fill-color);\n",
              "    }\n",
              "    20% {\n",
              "      border-color: transparent;\n",
              "      border-left-color: var(--fill-color);\n",
              "      border-top-color: var(--fill-color);\n",
              "    }\n",
              "    30% {\n",
              "      border-color: transparent;\n",
              "      border-left-color: var(--fill-color);\n",
              "      border-top-color: var(--fill-color);\n",
              "      border-right-color: var(--fill-color);\n",
              "    }\n",
              "    40% {\n",
              "      border-color: transparent;\n",
              "      border-right-color: var(--fill-color);\n",
              "      border-top-color: var(--fill-color);\n",
              "    }\n",
              "    60% {\n",
              "      border-color: transparent;\n",
              "      border-right-color: var(--fill-color);\n",
              "    }\n",
              "    80% {\n",
              "      border-color: transparent;\n",
              "      border-right-color: var(--fill-color);\n",
              "      border-bottom-color: var(--fill-color);\n",
              "    }\n",
              "    90% {\n",
              "      border-color: transparent;\n",
              "      border-bottom-color: var(--fill-color);\n",
              "    }\n",
              "  }\n",
              "</style>\n",
              "\n",
              "      <script>\n",
              "        async function quickchart(key) {\n",
              "          const quickchartButtonEl =\n",
              "            document.querySelector('#' + key + ' button');\n",
              "          quickchartButtonEl.disabled = true;  // To prevent multiple clicks.\n",
              "          quickchartButtonEl.classList.add('colab-df-spinner');\n",
              "          try {\n",
              "            const charts = await google.colab.kernel.invokeFunction(\n",
              "                'suggestCharts', [key], {});\n",
              "          } catch (error) {\n",
              "            console.error('Error during call to suggestCharts:', error);\n",
              "          }\n",
              "          quickchartButtonEl.classList.remove('colab-df-spinner');\n",
              "          quickchartButtonEl.classList.add('colab-df-quickchart-complete');\n",
              "        }\n",
              "        (() => {\n",
              "          let quickchartButtonEl =\n",
              "            document.querySelector('#df-a624274b-0256-4375-8c0b-be131989e2e4 button');\n",
              "          quickchartButtonEl.style.display =\n",
              "            google.colab.kernel.accessAllowed ? 'block' : 'none';\n",
              "        })();\n",
              "      </script>\n",
              "    </div>\n",
              "\n",
              "    </div>\n",
              "  </div>\n"
            ],
            "application/vnd.google.colaboratory.intrinsic+json": {
              "type": "dataframe",
              "variable_name": "df1",
              "summary": "{\n  \"name\": \"df1\",\n  \"rows\": 1000,\n  \"fields\": [\n    {\n      \"column\": \"Age\",\n      \"properties\": {\n        \"dtype\": \"number\",\n        \"std\": 1.0005003753127752,\n        \"min\": -1.6620479091366267,\n        \"max\": 1.6872181510434345,\n        \"num_unique_values\": 100,\n        \"samples\": [\n          0.5369651606785649,\n          0.43547224976401766,\n          -1.2899072357832866\n        ],\n        \"semantic_type\": \"\",\n        \"description\": \"\"\n      }\n    },\n    {\n      \"column\": \"Blood_Pressure\",\n      \"properties\": {\n        \"dtype\": \"number\",\n        \"std\": 1.0005003753127748,\n        \"min\": -1.6809949140597806,\n        \"max\": 1.7189089940042517,\n        \"num_unique_values\": 100,\n        \"samples\": [\n          0.8260049373409705,\n          -1.371912740599414,\n          0.7573200099053335\n        ],\n        \"semantic_type\": \"\",\n        \"description\": \"\"\n      }\n    },\n    {\n      \"column\": \"Cholesterol\",\n      \"properties\": {\n        \"dtype\": \"number\",\n        \"std\": 1.0005003753127741,\n        \"min\": -1.7155503613001821,\n        \"max\": 1.6197445738998073,\n        \"num_unique_values\": 150,\n        \"samples\": [\n          0.8810550916071922,\n          0.6348252641763205,\n          -0.6634774622773667\n        ],\n        \"semantic_type\": \"\",\n        \"description\": \"\"\n      }\n    },\n    {\n      \"column\": \"Heart_Rate\",\n      \"properties\": {\n        \"dtype\": \"number\",\n        \"std\": 1.0005003753127757,\n        \"min\": -1.7348198512762734,\n        \"max\": 1.6603012948384732,\n        \"num_unique_values\": 40,\n        \"samples\": [\n          0.35448546940972453,\n          0.876811799581224,\n          1.48619251811464\n        ],\n        \"semantic_type\": \"\",\n        \"description\": \"\"\n      }\n    },\n    {\n      \"column\": \"Gender\",\n      \"properties\": {\n        \"dtype\": \"number\",\n        \"std\": 0,\n        \"min\": 0,\n        \"max\": 1,\n        \"num_unique_values\": 2,\n        \"samples\": [\n          0,\n          1\n        ],\n        \"semantic_type\": \"\",\n        \"description\": \"\"\n      }\n    },\n    {\n      \"column\": \"Diagnosis\",\n      \"properties\": {\n        \"dtype\": \"number\",\n        \"std\": 1,\n        \"min\": 0,\n        \"max\": 3,\n        \"num_unique_values\": 4,\n        \"samples\": [\n          1,\n          3\n        ],\n        \"semantic_type\": \"\",\n        \"description\": \"\"\n      }\n    },\n    {\n      \"column\": \"Smoker\",\n      \"properties\": {\n        \"dtype\": \"number\",\n        \"std\": 0,\n        \"min\": 0,\n        \"max\": 1,\n        \"num_unique_values\": 2,\n        \"samples\": [\n          1,\n          0\n        ],\n        \"semantic_type\": \"\",\n        \"description\": \"\"\n      }\n    },\n    {\n      \"column\": \"Exercise\",\n      \"properties\": {\n        \"dtype\": \"number\",\n        \"std\": 0,\n        \"min\": 0,\n        \"max\": 2,\n        \"num_unique_values\": 3,\n        \"samples\": [\n          2,\n          0\n        ],\n        \"semantic_type\": \"\",\n        \"description\": \"\"\n      }\n    },\n    {\n      \"column\": \"Risk_Level\",\n      \"properties\": {\n        \"dtype\": \"category\",\n        \"num_unique_values\": 2,\n        \"samples\": [\n          \"Low Risk\",\n          \"High Risk\"\n        ],\n        \"semantic_type\": \"\",\n        \"description\": \"\"\n      }\n    }\n  ]\n}"
            }
          },
          "metadata": {},
          "execution_count": 36
        }
      ]
    },
    {
      "cell_type": "code",
      "source": [
        "df1.info()"
      ],
      "metadata": {
        "colab": {
          "base_uri": "https://localhost:8080/"
        },
        "id": "L5WPcR3KZgF0",
        "outputId": "593ce8e1-257c-4d2b-ef90-65b7c9fbad19"
      },
      "execution_count": 41,
      "outputs": [
        {
          "output_type": "stream",
          "name": "stdout",
          "text": [
            "<class 'pandas.core.frame.DataFrame'>\n",
            "RangeIndex: 1000 entries, 0 to 999\n",
            "Data columns (total 9 columns):\n",
            " #   Column          Non-Null Count  Dtype \n",
            "---  ------          --------------  ----- \n",
            " 0   Age             1000 non-null   int64 \n",
            " 1   Blood_Pressure  1000 non-null   int64 \n",
            " 2   Cholesterol     1000 non-null   int64 \n",
            " 3   Heart_Rate      1000 non-null   int64 \n",
            " 4   Gender          1000 non-null   object\n",
            " 5   Diagnosis       1000 non-null   object\n",
            " 6   Smoker          1000 non-null   object\n",
            " 7   Exercise        677 non-null    object\n",
            " 8   Risk_Level      1000 non-null   object\n",
            "dtypes: int64(4), object(5)\n",
            "memory usage: 70.4+ KB\n"
          ]
        }
      ]
    },
    {
      "cell_type": "code",
      "source": [
        "df2.head()"
      ],
      "metadata": {
        "colab": {
          "base_uri": "https://localhost:8080/",
          "height": 206
        },
        "id": "eBiBcE_kZBLa",
        "outputId": "7e1fd9cf-fd49-4fe3-89c3-94c6a2dc8520"
      },
      "execution_count": 34,
      "outputs": [
        {
          "output_type": "execute_result",
          "data": {
            "text/plain": [
              "        GPA  Attendance  Study_Hours  Projects_Completed  Major  Year  \\\n",
              "0  1.308064   -0.541218     1.557873           -1.637660      1     1   \n",
              "1  0.060327   -0.261338    -0.548310            1.515729      1     2   \n",
              "2  0.145789    1.487912    -0.109522            0.814976      2     2   \n",
              "3 -0.828471   -0.611188     0.855812            1.165353      3     0   \n",
              "4  0.923487    1.487912    -1.338128            0.464599      1     3   \n",
              "\n",
              "   Scholarship  Extracurricular Result  \n",
              "0            1                1   Fail  \n",
              "1            1                3   Fail  \n",
              "2            0                3   Pass  \n",
              "3            0                1   Pass  \n",
              "4            0                2   Fail  "
            ],
            "text/html": [
              "\n",
              "  <div id=\"df-9a638841-5e58-4ac3-875b-65185e337c96\" class=\"colab-df-container\">\n",
              "    <div>\n",
              "<style scoped>\n",
              "    .dataframe tbody tr th:only-of-type {\n",
              "        vertical-align: middle;\n",
              "    }\n",
              "\n",
              "    .dataframe tbody tr th {\n",
              "        vertical-align: top;\n",
              "    }\n",
              "\n",
              "    .dataframe thead th {\n",
              "        text-align: right;\n",
              "    }\n",
              "</style>\n",
              "<table border=\"1\" class=\"dataframe\">\n",
              "  <thead>\n",
              "    <tr style=\"text-align: right;\">\n",
              "      <th></th>\n",
              "      <th>GPA</th>\n",
              "      <th>Attendance</th>\n",
              "      <th>Study_Hours</th>\n",
              "      <th>Projects_Completed</th>\n",
              "      <th>Major</th>\n",
              "      <th>Year</th>\n",
              "      <th>Scholarship</th>\n",
              "      <th>Extracurricular</th>\n",
              "      <th>Result</th>\n",
              "    </tr>\n",
              "  </thead>\n",
              "  <tbody>\n",
              "    <tr>\n",
              "      <th>0</th>\n",
              "      <td>1.308064</td>\n",
              "      <td>-0.541218</td>\n",
              "      <td>1.557873</td>\n",
              "      <td>-1.637660</td>\n",
              "      <td>1</td>\n",
              "      <td>1</td>\n",
              "      <td>1</td>\n",
              "      <td>1</td>\n",
              "      <td>Fail</td>\n",
              "    </tr>\n",
              "    <tr>\n",
              "      <th>1</th>\n",
              "      <td>0.060327</td>\n",
              "      <td>-0.261338</td>\n",
              "      <td>-0.548310</td>\n",
              "      <td>1.515729</td>\n",
              "      <td>1</td>\n",
              "      <td>2</td>\n",
              "      <td>1</td>\n",
              "      <td>3</td>\n",
              "      <td>Fail</td>\n",
              "    </tr>\n",
              "    <tr>\n",
              "      <th>2</th>\n",
              "      <td>0.145789</td>\n",
              "      <td>1.487912</td>\n",
              "      <td>-0.109522</td>\n",
              "      <td>0.814976</td>\n",
              "      <td>2</td>\n",
              "      <td>2</td>\n",
              "      <td>0</td>\n",
              "      <td>3</td>\n",
              "      <td>Pass</td>\n",
              "    </tr>\n",
              "    <tr>\n",
              "      <th>3</th>\n",
              "      <td>-0.828471</td>\n",
              "      <td>-0.611188</td>\n",
              "      <td>0.855812</td>\n",
              "      <td>1.165353</td>\n",
              "      <td>3</td>\n",
              "      <td>0</td>\n",
              "      <td>0</td>\n",
              "      <td>1</td>\n",
              "      <td>Pass</td>\n",
              "    </tr>\n",
              "    <tr>\n",
              "      <th>4</th>\n",
              "      <td>0.923487</td>\n",
              "      <td>1.487912</td>\n",
              "      <td>-1.338128</td>\n",
              "      <td>0.464599</td>\n",
              "      <td>1</td>\n",
              "      <td>3</td>\n",
              "      <td>0</td>\n",
              "      <td>2</td>\n",
              "      <td>Fail</td>\n",
              "    </tr>\n",
              "  </tbody>\n",
              "</table>\n",
              "</div>\n",
              "    <div class=\"colab-df-buttons\">\n",
              "\n",
              "  <div class=\"colab-df-container\">\n",
              "    <button class=\"colab-df-convert\" onclick=\"convertToInteractive('df-9a638841-5e58-4ac3-875b-65185e337c96')\"\n",
              "            title=\"Convert this dataframe to an interactive table.\"\n",
              "            style=\"display:none;\">\n",
              "\n",
              "  <svg xmlns=\"http://www.w3.org/2000/svg\" height=\"24px\" viewBox=\"0 -960 960 960\">\n",
              "    <path d=\"M120-120v-720h720v720H120Zm60-500h600v-160H180v160Zm220 220h160v-160H400v160Zm0 220h160v-160H400v160ZM180-400h160v-160H180v160Zm440 0h160v-160H620v160ZM180-180h160v-160H180v160Zm440 0h160v-160H620v160Z\"/>\n",
              "  </svg>\n",
              "    </button>\n",
              "\n",
              "  <style>\n",
              "    .colab-df-container {\n",
              "      display:flex;\n",
              "      gap: 12px;\n",
              "    }\n",
              "\n",
              "    .colab-df-convert {\n",
              "      background-color: #E8F0FE;\n",
              "      border: none;\n",
              "      border-radius: 50%;\n",
              "      cursor: pointer;\n",
              "      display: none;\n",
              "      fill: #1967D2;\n",
              "      height: 32px;\n",
              "      padding: 0 0 0 0;\n",
              "      width: 32px;\n",
              "    }\n",
              "\n",
              "    .colab-df-convert:hover {\n",
              "      background-color: #E2EBFA;\n",
              "      box-shadow: 0px 1px 2px rgba(60, 64, 67, 0.3), 0px 1px 3px 1px rgba(60, 64, 67, 0.15);\n",
              "      fill: #174EA6;\n",
              "    }\n",
              "\n",
              "    .colab-df-buttons div {\n",
              "      margin-bottom: 4px;\n",
              "    }\n",
              "\n",
              "    [theme=dark] .colab-df-convert {\n",
              "      background-color: #3B4455;\n",
              "      fill: #D2E3FC;\n",
              "    }\n",
              "\n",
              "    [theme=dark] .colab-df-convert:hover {\n",
              "      background-color: #434B5C;\n",
              "      box-shadow: 0px 1px 3px 1px rgba(0, 0, 0, 0.15);\n",
              "      filter: drop-shadow(0px 1px 2px rgba(0, 0, 0, 0.3));\n",
              "      fill: #FFFFFF;\n",
              "    }\n",
              "  </style>\n",
              "\n",
              "    <script>\n",
              "      const buttonEl =\n",
              "        document.querySelector('#df-9a638841-5e58-4ac3-875b-65185e337c96 button.colab-df-convert');\n",
              "      buttonEl.style.display =\n",
              "        google.colab.kernel.accessAllowed ? 'block' : 'none';\n",
              "\n",
              "      async function convertToInteractive(key) {\n",
              "        const element = document.querySelector('#df-9a638841-5e58-4ac3-875b-65185e337c96');\n",
              "        const dataTable =\n",
              "          await google.colab.kernel.invokeFunction('convertToInteractive',\n",
              "                                                    [key], {});\n",
              "        if (!dataTable) return;\n",
              "\n",
              "        const docLinkHtml = 'Like what you see? Visit the ' +\n",
              "          '<a target=\"_blank\" href=https://colab.research.google.com/notebooks/data_table.ipynb>data table notebook</a>'\n",
              "          + ' to learn more about interactive tables.';\n",
              "        element.innerHTML = '';\n",
              "        dataTable['output_type'] = 'display_data';\n",
              "        await google.colab.output.renderOutput(dataTable, element);\n",
              "        const docLink = document.createElement('div');\n",
              "        docLink.innerHTML = docLinkHtml;\n",
              "        element.appendChild(docLink);\n",
              "      }\n",
              "    </script>\n",
              "  </div>\n",
              "\n",
              "\n",
              "    <div id=\"df-6a8028c8-89c1-4c2a-b48b-7f5647175e20\">\n",
              "      <button class=\"colab-df-quickchart\" onclick=\"quickchart('df-6a8028c8-89c1-4c2a-b48b-7f5647175e20')\"\n",
              "                title=\"Suggest charts\"\n",
              "                style=\"display:none;\">\n",
              "\n",
              "<svg xmlns=\"http://www.w3.org/2000/svg\" height=\"24px\"viewBox=\"0 0 24 24\"\n",
              "     width=\"24px\">\n",
              "    <g>\n",
              "        <path d=\"M19 3H5c-1.1 0-2 .9-2 2v14c0 1.1.9 2 2 2h14c1.1 0 2-.9 2-2V5c0-1.1-.9-2-2-2zM9 17H7v-7h2v7zm4 0h-2V7h2v10zm4 0h-2v-4h2v4z\"/>\n",
              "    </g>\n",
              "</svg>\n",
              "      </button>\n",
              "\n",
              "<style>\n",
              "  .colab-df-quickchart {\n",
              "      --bg-color: #E8F0FE;\n",
              "      --fill-color: #1967D2;\n",
              "      --hover-bg-color: #E2EBFA;\n",
              "      --hover-fill-color: #174EA6;\n",
              "      --disabled-fill-color: #AAA;\n",
              "      --disabled-bg-color: #DDD;\n",
              "  }\n",
              "\n",
              "  [theme=dark] .colab-df-quickchart {\n",
              "      --bg-color: #3B4455;\n",
              "      --fill-color: #D2E3FC;\n",
              "      --hover-bg-color: #434B5C;\n",
              "      --hover-fill-color: #FFFFFF;\n",
              "      --disabled-bg-color: #3B4455;\n",
              "      --disabled-fill-color: #666;\n",
              "  }\n",
              "\n",
              "  .colab-df-quickchart {\n",
              "    background-color: var(--bg-color);\n",
              "    border: none;\n",
              "    border-radius: 50%;\n",
              "    cursor: pointer;\n",
              "    display: none;\n",
              "    fill: var(--fill-color);\n",
              "    height: 32px;\n",
              "    padding: 0;\n",
              "    width: 32px;\n",
              "  }\n",
              "\n",
              "  .colab-df-quickchart:hover {\n",
              "    background-color: var(--hover-bg-color);\n",
              "    box-shadow: 0 1px 2px rgba(60, 64, 67, 0.3), 0 1px 3px 1px rgba(60, 64, 67, 0.15);\n",
              "    fill: var(--button-hover-fill-color);\n",
              "  }\n",
              "\n",
              "  .colab-df-quickchart-complete:disabled,\n",
              "  .colab-df-quickchart-complete:disabled:hover {\n",
              "    background-color: var(--disabled-bg-color);\n",
              "    fill: var(--disabled-fill-color);\n",
              "    box-shadow: none;\n",
              "  }\n",
              "\n",
              "  .colab-df-spinner {\n",
              "    border: 2px solid var(--fill-color);\n",
              "    border-color: transparent;\n",
              "    border-bottom-color: var(--fill-color);\n",
              "    animation:\n",
              "      spin 1s steps(1) infinite;\n",
              "  }\n",
              "\n",
              "  @keyframes spin {\n",
              "    0% {\n",
              "      border-color: transparent;\n",
              "      border-bottom-color: var(--fill-color);\n",
              "      border-left-color: var(--fill-color);\n",
              "    }\n",
              "    20% {\n",
              "      border-color: transparent;\n",
              "      border-left-color: var(--fill-color);\n",
              "      border-top-color: var(--fill-color);\n",
              "    }\n",
              "    30% {\n",
              "      border-color: transparent;\n",
              "      border-left-color: var(--fill-color);\n",
              "      border-top-color: var(--fill-color);\n",
              "      border-right-color: var(--fill-color);\n",
              "    }\n",
              "    40% {\n",
              "      border-color: transparent;\n",
              "      border-right-color: var(--fill-color);\n",
              "      border-top-color: var(--fill-color);\n",
              "    }\n",
              "    60% {\n",
              "      border-color: transparent;\n",
              "      border-right-color: var(--fill-color);\n",
              "    }\n",
              "    80% {\n",
              "      border-color: transparent;\n",
              "      border-right-color: var(--fill-color);\n",
              "      border-bottom-color: var(--fill-color);\n",
              "    }\n",
              "    90% {\n",
              "      border-color: transparent;\n",
              "      border-bottom-color: var(--fill-color);\n",
              "    }\n",
              "  }\n",
              "</style>\n",
              "\n",
              "      <script>\n",
              "        async function quickchart(key) {\n",
              "          const quickchartButtonEl =\n",
              "            document.querySelector('#' + key + ' button');\n",
              "          quickchartButtonEl.disabled = true;  // To prevent multiple clicks.\n",
              "          quickchartButtonEl.classList.add('colab-df-spinner');\n",
              "          try {\n",
              "            const charts = await google.colab.kernel.invokeFunction(\n",
              "                'suggestCharts', [key], {});\n",
              "          } catch (error) {\n",
              "            console.error('Error during call to suggestCharts:', error);\n",
              "          }\n",
              "          quickchartButtonEl.classList.remove('colab-df-spinner');\n",
              "          quickchartButtonEl.classList.add('colab-df-quickchart-complete');\n",
              "        }\n",
              "        (() => {\n",
              "          let quickchartButtonEl =\n",
              "            document.querySelector('#df-6a8028c8-89c1-4c2a-b48b-7f5647175e20 button');\n",
              "          quickchartButtonEl.style.display =\n",
              "            google.colab.kernel.accessAllowed ? 'block' : 'none';\n",
              "        })();\n",
              "      </script>\n",
              "    </div>\n",
              "\n",
              "    </div>\n",
              "  </div>\n"
            ],
            "application/vnd.google.colaboratory.intrinsic+json": {
              "type": "dataframe",
              "variable_name": "df2",
              "summary": "{\n  \"name\": \"df2\",\n  \"rows\": 1000,\n  \"fields\": [\n    {\n      \"column\": \"GPA\",\n      \"properties\": {\n        \"dtype\": \"number\",\n        \"std\": 1.0005003753127732,\n        \"min\": -1.700177579222575,\n        \"max\": 1.7182783031195767,\n        \"num_unique_values\": 367,\n        \"samples\": [\n          -0.8455636086370371,\n          0.7440183766520635,\n          1.5388093692966138\n        ],\n        \"semantic_type\": \"\",\n        \"description\": \"\"\n      }\n    },\n    {\n      \"column\": \"Attendance\",\n      \"properties\": {\n        \"dtype\": \"number\",\n        \"std\": 1.0005003753127737,\n        \"min\": -1.6607375324274478,\n        \"max\": 1.767791605509984,\n        \"num_unique_values\": 50,\n        \"samples\": [\n          -1.5907675500205616,\n          -1.6607375324274478,\n          1.2780017286617795\n        ],\n        \"semantic_type\": \"\",\n        \"description\": \"\"\n      }\n    },\n    {\n      \"column\": \"Study_Hours\",\n      \"properties\": {\n        \"dtype\": \"number\",\n        \"std\": 1.0005003753127726,\n        \"min\": -1.6891588495177396,\n        \"max\": 1.733388694704613,\n        \"num_unique_values\": 40,\n        \"samples\": [\n          0.5047818839581274,\n          -0.2850367800931848,\n          -0.8115825561273928\n        ],\n        \"semantic_type\": \"\",\n        \"description\": \"\"\n      }\n    },\n    {\n      \"column\": \"Projects_Completed\",\n      \"properties\": {\n        \"dtype\": \"number\",\n        \"std\": 1.0005003753127768,\n        \"min\": -1.637660456813495,\n        \"max\": 1.5157293830070984,\n        \"num_unique_values\": 10,\n        \"samples\": [\n          0.11422278753127914,\n          1.5157293830070984,\n          -0.5865305102066305\n        ],\n        \"semantic_type\": \"\",\n        \"description\": \"\"\n      }\n    },\n    {\n      \"column\": \"Major\",\n      \"properties\": {\n        \"dtype\": \"number\",\n        \"std\": 1,\n        \"min\": 0,\n        \"max\": 3,\n        \"num_unique_values\": 4,\n        \"samples\": [\n          2,\n          0,\n          1\n        ],\n        \"semantic_type\": \"\",\n        \"description\": \"\"\n      }\n    },\n    {\n      \"column\": \"Year\",\n      \"properties\": {\n        \"dtype\": \"number\",\n        \"std\": 1,\n        \"min\": 0,\n        \"max\": 3,\n        \"num_unique_values\": 4,\n        \"samples\": [\n          2,\n          3,\n          1\n        ],\n        \"semantic_type\": \"\",\n        \"description\": \"\"\n      }\n    },\n    {\n      \"column\": \"Scholarship\",\n      \"properties\": {\n        \"dtype\": \"number\",\n        \"std\": 0,\n        \"min\": 0,\n        \"max\": 1,\n        \"num_unique_values\": 2,\n        \"samples\": [\n          0,\n          1\n        ],\n        \"semantic_type\": \"\",\n        \"description\": \"\"\n      }\n    },\n    {\n      \"column\": \"Extracurricular\",\n      \"properties\": {\n        \"dtype\": \"number\",\n        \"std\": 1,\n        \"min\": 0,\n        \"max\": 3,\n        \"num_unique_values\": 4,\n        \"samples\": [\n          3,\n          0\n        ],\n        \"semantic_type\": \"\",\n        \"description\": \"\"\n      }\n    },\n    {\n      \"column\": \"Result\",\n      \"properties\": {\n        \"dtype\": \"category\",\n        \"num_unique_values\": 2,\n        \"samples\": [\n          \"Pass\",\n          \"Fail\"\n        ],\n        \"semantic_type\": \"\",\n        \"description\": \"\"\n      }\n    }\n  ]\n}"
            }
          },
          "metadata": {},
          "execution_count": 34
        }
      ]
    },
    {
      "cell_type": "code",
      "source": [
        "df2.info()"
      ],
      "metadata": {
        "colab": {
          "base_uri": "https://localhost:8080/"
        },
        "id": "e2jBv7NfZbHj",
        "outputId": "087ca701-3f44-4916-872c-f15689f14b69"
      },
      "execution_count": 33,
      "outputs": [
        {
          "output_type": "stream",
          "name": "stdout",
          "text": [
            "<class 'pandas.core.frame.DataFrame'>\n",
            "RangeIndex: 1000 entries, 0 to 999\n",
            "Data columns (total 9 columns):\n",
            " #   Column              Non-Null Count  Dtype  \n",
            "---  ------              --------------  -----  \n",
            " 0   GPA                 1000 non-null   float64\n",
            " 1   Attendance          1000 non-null   float64\n",
            " 2   Study_Hours         1000 non-null   float64\n",
            " 3   Projects_Completed  1000 non-null   float64\n",
            " 4   Major               1000 non-null   int64  \n",
            " 5   Year                1000 non-null   int64  \n",
            " 6   Scholarship         1000 non-null   int64  \n",
            " 7   Extracurricular     1000 non-null   int64  \n",
            " 8   Result              1000 non-null   object \n",
            "dtypes: float64(4), int64(4), object(1)\n",
            "memory usage: 70.4+ KB\n"
          ]
        }
      ]
    },
    {
      "cell_type": "markdown",
      "source": [
        "3. Análisis de la variable objetivo\n",
        "Muestra la distribución de la variable Risk_Level en hospitaldf y Result en studentsdf.\n"
      ],
      "metadata": {
        "id": "L_Lc5k_lYPT9"
      }
    },
    {
      "cell_type": "code",
      "source": [
        "print(\"Distribucion del Nivel de Riesgo en el Hospital:\")\n",
        "print(df1['Risk_Level'].value_counts())\n",
        "print(\"\\nDistribucion del Resultado en los Estudiantes:\")\n",
        "print(df2['Result'].value_counts())"
      ],
      "metadata": {
        "colab": {
          "base_uri": "https://localhost:8080/"
        },
        "id": "ZK-LVlDmatLO",
        "outputId": "3b9240b0-9181-4b20-fe5b-c06f654f5317"
      },
      "execution_count": 42,
      "outputs": [
        {
          "output_type": "stream",
          "name": "stdout",
          "text": [
            "Distribucion del Nivel de Riesgo en el Hospital:\n",
            "Risk_Level\n",
            "High Risk    503\n",
            "Low Risk     497\n",
            "Name: count, dtype: int64\n",
            "\n",
            "Distribucion del Resultado en los Estudiantes:\n",
            "Result\n",
            "Fail    508\n",
            "Pass    492\n",
            "Name: count, dtype: int64\n"
          ]
        }
      ]
    },
    {
      "cell_type": "markdown",
      "source": [
        "4. Preprocesamiento\n",
        "• Codifica las variables categóricas.\n",
        "• Normaliza las variables numéricas si es necesario.\n"
      ],
      "metadata": {
        "id": "pytQGanAYQoe"
      }
    },
    {
      "cell_type": "code",
      "source": [
        "columnas_categoricas = df1.select_dtypes(include=['object']).columns\n",
        "for columna in columnas_categoricas:\n",
        "    if columna != 'Risk_Level':\n",
        "        le = LabelEncoder()\n",
        "        df1[columna] = le.fit_transform(df1[columna])\n",
        "\n",
        "columnas_numericas = df1.select_dtypes(include=['int64', 'float64']).columns\n",
        "\n",
        "if 'Risk_Level' in columnas_numericas:\n",
        "    columnas_numericas = columnas_numericas.drop('Risk_Level')\n",
        "\n",
        "scaler_hospital = StandardScaler()\n",
        "\n",
        "df1[columnas_numericas] = scaler_hospital.fit_transform(df1[columnas_numericas])\n",
        "\n",
        "columnas_categoricas_estudiantes = df2.select_dtypes(include=['object']).columns\n",
        "for columna in columnas_categoricas_estudiantes:\n",
        "    if columna != 'Result':\n",
        "        le = LabelEncoder()\n",
        "        df2[columna] = le.fit_transform(df2[columna])\n",
        "\n",
        "columnas_numericas_estudiantes = df2.select_dtypes(include=['int64', 'float64']).columns\n",
        "\n",
        "if 'Result' in columnas_numericas_estudiantes:\n",
        "    columnas_numericas_estudiantes = columnas_numericas_estudiantes.drop('Result')\n",
        "\n",
        "scaler_estudiantes = StandardScaler()\n",
        "df2[columnas_numericas_estudiantes] = scaler_estudiantes.fit_transform(df2[columnas_numericas_estudiantes])\n",
        "\n",
        "\n",
        "print(\"\\nDatosPreprocesados hospital:\")\n",
        "print(df1.head())\n",
        "print(\"\\nDatosPreprocesados estudiantes:\")\n",
        "print(df2.head())"
      ],
      "metadata": {
        "colab": {
          "base_uri": "https://localhost:8080/"
        },
        "id": "g6DFHSZ8aQ_u",
        "outputId": "c6e30c13-b080-46d8-dac9-15520586588b"
      },
      "execution_count": 70,
      "outputs": [
        {
          "output_type": "stream",
          "name": "stdout",
          "text": [
            "\n",
            "DatosPreprocesados hospital:\n",
            "        Age  Blood_Pressure  Cholesterol  Heart_Rate    Gender  Diagnosis  \\\n",
            "0  0.063332       -0.547694    -0.036711    1.399138  0.964625  -1.373957   \n",
            "1  1.450401       -1.440598     0.970593   -1.473657 -1.036672  -0.477703   \n",
            "2 -1.188414       -0.341639    -0.708247    0.789757  0.964625   0.418550   \n",
            "3  0.739951        1.135087     0.052827   -1.299548  0.964625   0.418550   \n",
            "4  0.367810       -0.272954    -0.529170   -0.167841 -1.036672   0.418550   \n",
            "\n",
            "     Smoker  Exercise  Risk_Level  \n",
            "0 -0.990050  1.252559           0  \n",
            "1 -0.990050 -1.186699           0  \n",
            "2 -0.990050 -1.186699           1  \n",
            "3  1.010051  1.252559           0  \n",
            "4  1.010051 -1.186699           0  \n",
            "\n",
            "DatosPreprocesados estudiantes:\n",
            "        GPA  Attendance  Study_Hours  Projects_Completed     Major      Year  \\\n",
            "0  1.308064   -0.541218     1.557873           -1.637660 -0.419702 -0.454886   \n",
            "1  0.060327   -0.261338    -0.548310            1.515729 -0.419702  0.431831   \n",
            "2  0.145789    1.487912    -0.109522            0.814976  0.490714  0.431831   \n",
            "3 -0.828471   -0.611188     0.855812            1.165353  1.401131 -1.341604   \n",
            "4  0.923487    1.487912    -1.338128            0.464599 -0.419702  1.318549   \n",
            "\n",
            "   Scholarship  Extracurricular  Result  \n",
            "0     1.020204        -0.478974       0  \n",
            "1     1.020204         1.325070       0  \n",
            "2    -0.980196         1.325070       1  \n",
            "3    -0.980196        -0.478974       1  \n",
            "4    -0.980196         0.423048       0  \n"
          ]
        }
      ]
    },
    {
      "cell_type": "markdown",
      "source": [
        "5. División de datos\n",
        "Divide los datos en conjuntos de entrenamiento y prueba (80/20).\n",
        "\n"
      ],
      "metadata": {
        "id": "oSqwgjisYRyd"
      }
    },
    {
      "cell_type": "code",
      "source": [
        "X_hospital = df1.drop('Risk_Level', axis=1)\n",
        "y_hospital = df1['Risk_Level']\n",
        "\n",
        "X_train_hospital, X_test_hospital, y_train_hospital, y_test_hospital = train_test_split(X_hospital, y_hospital, test_size=0.2, random_state=42)\n",
        "\n",
        "X_students = df2.drop('Result', axis=1)\n",
        "y_students = df2['Result']\n",
        "\n",
        "X_train_students, X_test_students, y_train_students, y_test_students = train_test_split(X_students, y_students, test_size=0.2, random_state=42)\n",
        "\n",
        "print(\"Division de datos para hospital_data:\")\n",
        "print(f\"X_train_hospital shape: {X_train_hospital.shape}\")\n",
        "print(f\"X_test_hospital shape: {X_test_hospital.shape}\")\n",
        "print(f\"y_train_hospital shape: {y_train_hospital.shape}\")\n",
        "print(f\"y_test_hospital shape: {y_test_hospital.shape}\")\n",
        "\n",
        "print(\"\\nDivision de datos para students_data:\")\n",
        "print(f\"X_train_students shape: {X_train_students.shape}\")\n",
        "print(f\"X_test_students shape: {X_test_students.shape}\")\n",
        "print(f\"y_train_students shape: {y_train_students.shape}\")\n",
        "print(f\"y_test_students shape: {y_test_students.shape}\")"
      ],
      "metadata": {
        "colab": {
          "base_uri": "https://localhost:8080/"
        },
        "id": "XwT7fwH8dB24",
        "outputId": "5514cde2-d6b7-4052-ed86-498bda6e7490"
      },
      "execution_count": 71,
      "outputs": [
        {
          "output_type": "stream",
          "name": "stdout",
          "text": [
            "Division de datos para hospital_data:\n",
            "X_train_hospital shape: (800, 8)\n",
            "X_test_hospital shape: (200, 8)\n",
            "y_train_hospital shape: (800,)\n",
            "y_test_hospital shape: (200,)\n",
            "\n",
            "Division de datos para students_data:\n",
            "X_train_students shape: (800, 8)\n",
            "X_test_students shape: (200, 8)\n",
            "y_train_students shape: (800,)\n",
            "y_test_students shape: (200,)\n"
          ]
        }
      ]
    },
    {
      "cell_type": "markdown",
      "source": [
        "6. Entrenamiento de modelos\n",
        "Entrena al menos dos modelos de clasificación (por ejemplo, Regresión Logística y Árbol\n",
        "de Decisión) para cada conjunto de datos."
      ],
      "metadata": {
        "id": "CJFqKnkQYTft"
      }
    },
    {
      "cell_type": "code",
      "source": [
        "regresion_logistica = LogisticRegression(random_state=42)\n",
        "regresion_logistica.fit(X_train_hospital, y_train_hospital)\n",
        "print(\"- Regresión Logística: regresion_logistica\")\n",
        "\n"
      ],
      "metadata": {
        "colab": {
          "base_uri": "https://localhost:8080/"
        },
        "id": "hDWCGRWFeQkc",
        "outputId": "a19a151a-ad74-4e60-ba6d-e2364ffe0a2a"
      },
      "execution_count": 72,
      "outputs": [
        {
          "output_type": "stream",
          "name": "stdout",
          "text": [
            "- Regresión Logística: regresion_logistica\n"
          ]
        }
      ]
    },
    {
      "cell_type": "code",
      "source": [
        "arbol_decision_hospital = DecisionTreeClassifier(random_state=42)\n",
        "arbol_decision_hospital.fit(X_train_hospital, y_train_hospital)\n",
        "print(\"- Árbol de Decisión: arbol_decision_hospital\")"
      ],
      "metadata": {
        "colab": {
          "base_uri": "https://localhost:8080/"
        },
        "id": "hFmtRfWphKgW",
        "outputId": "fd913af3-4de2-477a-8d70-bb7c3578ebbe"
      },
      "execution_count": 73,
      "outputs": [
        {
          "output_type": "stream",
          "name": "stdout",
          "text": [
            "- Árbol de Decisión: arbol_decision_hospital\n"
          ]
        }
      ]
    },
    {
      "cell_type": "code",
      "source": [
        "\n",
        "svm_estudiantes = SVC(random_state=42)\n",
        "svm_estudiantes.fit(X_train_students, y_train_students)\n",
        "\n",
        "knn_estudiantes = KNeighborsClassifier()\n",
        "knn_estudiantes.fit(X_train_students, y_train_students)\n",
        "\n",
        "print(\"SVM: svm_estudiantes\")\n",
        "print(\"KNN: knn_estudiantes\")\n"
      ],
      "metadata": {
        "colab": {
          "base_uri": "https://localhost:8080/"
        },
        "id": "SAvOBmFqei2M",
        "outputId": "d4a775e1-9579-41b4-afaf-fbc5aa5b3cc6"
      },
      "execution_count": 74,
      "outputs": [
        {
          "output_type": "stream",
          "name": "stdout",
          "text": [
            "Additional models trained for students_data:\n",
            "- Support Vector Machine (SVM): svm_students\n",
            "- k-Nearest Neighbors (KNN): knn_students\n"
          ]
        }
      ]
    },
    {
      "cell_type": "markdown",
      "source": [
        "7. Evaluación de modelos\n",
        "Evalúa los modelos usando métricas como precisión, recall, F1-score y matriz de\n",
        "confusión.\n",
        "\n"
      ],
      "metadata": {
        "id": "PN5sZqEpYUyN"
      }
    },
    {
      "cell_type": "code",
      "source": [
        "\n",
        "y_pred_lr_hospital = regresion_logistica.predict(X_test_hospital)\n",
        "print(\"\\n Evaluación del modelo de Regresión Logística (Hospital)\")\n",
        "print(f\"Precisión: {accuracy_score(y_test_hospital, y_pred_lr_hospital):.4f}\")\n",
        "print(f\"Recall: {recall_score(y_test_hospital, y_pred_lr_hospital, average='weighted'):.4f}\")\n",
        "print(f\"F1-score: {f1_score(y_test_hospital, y_pred_lr_hospital, average='weighted'):.4f}\")\n",
        "conf_matrix_lr_hospital = confusion_matrix(y_test_hospital, y_pred_lr_hospital)\n",
        "print(\"\\nMatriz de Confusión:\")\n",
        "print(conf_matrix_lr_hospital)\n",
        "\n",
        "y_pred_dt_hospital = arbol_decision_hospital.predict(X_test_hospital)\n",
        "print(\"\\n Evaluación del modelo de Árbol de Decisión (Hospital)\")\n",
        "print(f\"Precisión: {accuracy_score(y_test_hospital, y_pred_dt_hospital):.4f}\")\n",
        "print(f\"Recall: {recall_score(y_test_hospital, y_pred_dt_hospital, average='weighted'):.4f}\")\n",
        "print(f\"F1-score: {f1_score(y_test_hospital, y_pred_dt_hospital, average='weighted'):.4f}\")\n",
        "conf_matrix_dt_hospital = confusion_matrix(y_test_hospital, y_pred_dt_hospital)\n",
        "print(\"\\nMatriz de Confusión:\")\n",
        "print(conf_matrix_dt_hospital)\n",
        "\n",
        "\n"
      ],
      "metadata": {
        "colab": {
          "base_uri": "https://localhost:8080/"
        },
        "id": "axgeHqVDidhQ",
        "outputId": "0ffed39d-baae-47ed-d681-0584ad8f31d9"
      },
      "execution_count": 82,
      "outputs": [
        {
          "output_type": "stream",
          "name": "stdout",
          "text": [
            "\n",
            " Evaluación del modelo de Regresión Logística (Hospital)\n",
            "Precisión: 0.4700\n",
            "Recall: 0.4700\n",
            "F1-score: 0.4652\n",
            "\n",
            "Matriz de Confusión:\n",
            "[[53 38]\n",
            " [68 41]]\n",
            "\n",
            " Evaluación del modelo de Árbol de Decisión (Hospital)\n",
            "Precisión: 0.5150\n",
            "Recall: 0.5150\n",
            "F1-score: 0.5152\n",
            "\n",
            "Matriz de Confusión:\n",
            "[[43 48]\n",
            " [49 60]]\n"
          ]
        }
      ]
    },
    {
      "cell_type": "code",
      "source": [
        "y_pred_svm_students = svm_students.predict(X_test_students)\n",
        "print(\"\\n--- Evaluación del modelo SVM (Estudiantes)\")\n",
        "print(f\"Precisión: {accuracy_score(y_test_students, y_pred_svm_students):.4f}\")\n",
        "print(f\"Recall: {recall_score(y_test_students, y_pred_svm_students, average='weighted'):.4f}\")\n",
        "print(f\"F1-score: {f1_score(y_test_students, y_pred_svm_students, average='weighted'):.4f}\")\n",
        "conf_matrix_svm_students = confusion_matrix(y_test_students, y_pred_svm_students)\n",
        "print(\"\\nMatriz de Confusión:\")\n",
        "print(conf_matrix_svm_students)\n",
        "\n",
        "\n",
        "\n",
        "y_pred_knn_students = knn_students.predict(X_test_students)\n",
        "print(\"\\n--- Evaluación del modelo KNN (Estudiantes)\")\n",
        "print(f\"Precisión: {accuracy_score(y_test_students, y_pred_knn_students):.4f}\")\n",
        "print(f\"Recall: {recall_score(y_test_students, y_pred_knn_students, average='weighted'):.4f}\")\n",
        "print(f\"F1-score: {f1_score(y_test_students, y_pred_knn_students, average='weighted'):.4f}\")\n",
        "conf_matrix_knn_students = confusion_matrix(y_test_students, y_pred_knn_students)\n",
        "print(\"\\nMatriz de Confusión:\")\n",
        "print(conf_matrix_knn_students)\n",
        "\n"
      ],
      "metadata": {
        "colab": {
          "base_uri": "https://localhost:8080/"
        },
        "id": "kL745THaijI8",
        "outputId": "b2773757-dad2-400f-fd60-bcae761d2105"
      },
      "execution_count": 80,
      "outputs": [
        {
          "output_type": "stream",
          "name": "stdout",
          "text": [
            "\n",
            "--- Evaluación del modelo SVM (Estudiantes)\n",
            "Precisión: 0.4750\n",
            "Recall: 0.4750\n",
            "F1-score: 0.4722\n",
            "\n",
            "Matriz de Confusión:\n",
            "[[59 48]\n",
            " [57 36]]\n",
            "\n",
            "--- Evaluación del modelo KNN (Estudiantes)\n",
            "Precisión: 0.4550\n",
            "Recall: 0.4550\n",
            "F1-score: 0.4557\n",
            "\n",
            "Matriz de Confusión:\n",
            "[[49 58]\n",
            " [51 42]]\n"
          ]
        }
      ]
    },
    {
      "cell_type": "markdown",
      "source": [
        "8. Comparación de modelos\n",
        "Compara el rendimiento de los modelos y justifica cuál elegirías para cada conjunto de\n",
        "datos.\n",
        "-----------------------------------------------------------------------------"
      ],
      "metadata": {
        "id": "3gpBTNQWYV21"
      }
    },
    {
      "cell_type": "markdown",
      "source": [
        "Entre los modelos usados para el hospital (regresión logística y arbol de decisión) se puede notar como el árbol de decisión posee una precisión o acurrancy del 0.51 un 4.5% más que el de la regresión logística, por lo que este modelo es el mejor entre esos dos."
      ],
      "metadata": {
        "id": "XGuuBJRCYXmt"
      }
    },
    {
      "cell_type": "markdown",
      "source": [
        "-------------------------------------------------------"
      ],
      "metadata": {
        "id": "dgIAHb0Bj0cL"
      }
    },
    {
      "cell_type": "markdown",
      "source": [
        "En cuanto al dataset de los estudiantes se entrenaron dos modelos diferentes(SVM y KNN) donde en este caso el modelo SVM posee un valor de 0.47 en el indicador de precisión con un 2%  por encima del modelo de KNN indicando que para este caso es la mejor opción"
      ],
      "metadata": {
        "id": "p3MmwbgFj3YU"
      }
    }
  ]
}