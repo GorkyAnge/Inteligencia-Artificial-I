{
 "cells": [
  {
   "cell_type": "markdown",
   "id": "2cdaba5b",
   "metadata": {},
   "source": [
    "## TRABAJO REGRESIÓN POLINÓMICA\n",
    "\n",
    "### ESTUDIANTE: GORKY PALACIOS MUTIS\n",
    "\n",
    "Dataset Seleccionado: [Car Data](https://www.kaggle.com/datasets/nehalbirla/vehicle-dataset-from-cardekho/data?select=Car+details+v3.csv)\n",
    "\n",
    "### IDENTIFICACIÓN DE VARIABLES\n",
    "\n",
    "Variable dependiente (y): Selling_Price \n",
    "\n",
    "Variables independientes (X): Car_Name, Year,Present_Price, Kms_Driven, Fuel_Type, Seller_Type, Transmission, Owner\n",
    "\n",
    "Para esta predicción y aplicación de Regresión Polinómica, usaremos la variable Present_Price\n"
   ]
  },
  {
   "cell_type": "markdown",
   "id": "9521b5f1",
   "metadata": {},
   "source": [
    "#### IMPORTAR LIBRERIAS"
   ]
  },
  {
   "cell_type": "code",
   "execution_count": null,
   "id": "4a40034f",
   "metadata": {},
   "outputs": [],
   "source": [
    "import numpy as np\n",
    "import matplotlib.pyplot as plt\n",
    "import pandas as pd\n",
    "from sklearn.linear_model import LinearRegression\n",
    "from sklearn.preprocessing import PolynomialFeatures\n"
   ]
  },
  {
   "cell_type": "markdown",
   "id": "adcc3d00",
   "metadata": {},
   "source": [
    "#### CARGAR EL DATASET"
   ]
  },
  {
   "cell_type": "code",
   "execution_count": null,
   "id": "5fcc41e4",
   "metadata": {},
   "outputs": [],
   "source": [
    "dataset = pd.read_csv('used_cars_data.csv') \n",
    "X = dataset[['Present_Price']].values  \n",
    "y = dataset['Selling_Price'].values   "
   ]
  },
  {
   "cell_type": "markdown",
   "id": "00843c90",
   "metadata": {},
   "source": [
    "#### ENTRENAMIENTO DEL MODELO LINEAL"
   ]
  },
  {
   "cell_type": "code",
   "execution_count": null,
   "id": "09f66361",
   "metadata": {},
   "outputs": [],
   "source": [
    "lin_reg = LinearRegression()\n",
    "lin_reg.fit(X, y)"
   ]
  },
  {
   "cell_type": "markdown",
   "id": "fb97b467",
   "metadata": {},
   "source": [
    "#### ENTRENAMIENTO DEL MODELO POLINÓMICO (GRADO 4)"
   ]
  },
  {
   "cell_type": "code",
   "execution_count": null,
   "id": "50777a5a",
   "metadata": {},
   "outputs": [],
   "source": [
    "poly_reg = PolynomialFeatures(degree=4)\n",
    "X_poly = poly_reg.fit_transform(X)\n",
    "lin_reg_2 = LinearRegression()\n",
    "lin_reg_2.fit(X_poly, y)"
   ]
  },
  {
   "cell_type": "markdown",
   "id": "32ac4c98",
   "metadata": {},
   "source": [
    "#### VISUALIZACIÓN DE REGRESIÓN LINEAL"
   ]
  },
  {
   "cell_type": "code",
   "execution_count": null,
   "id": "e24e6494",
   "metadata": {},
   "outputs": [],
   "source": [
    "plt.scatter(X, y, color='red')\n",
    "plt.plot(X, lin_reg.predict(X), color='blue')\n",
    "plt.title('Precio de venta vs Precio original (Lineal)')\n",
    "plt.xlabel('Precio Original del Auto (Present_Price)')\n",
    "plt.ylabel('Precio de Venta (Selling_Price)')\n",
    "plt.show()"
   ]
  },
  {
   "cell_type": "markdown",
   "id": "af4665a8",
   "metadata": {},
   "source": [
    "#### VISUALIZACIÓN DE REGRESIÓN POLINÓMICA (CURVA MÁS SUAVE)"
   ]
  },
  {
   "cell_type": "code",
   "execution_count": null,
   "id": "5ca5aa2d",
   "metadata": {},
   "outputs": [],
   "source": [
    "X_grid = np.arange(min(X), max(X), 0.1)\n",
    "X_grid = X_grid.reshape((len(X_grid), 1))\n",
    "plt.scatter(X, y, color='red')\n",
    "plt.plot(X_grid, lin_reg_2.predict(poly_reg.transform(X_grid)), color='blue')\n",
    "plt.title('Precio de venta vs Precio original (Polinómica)')\n",
    "plt.xlabel('Precio Original del Auto (Present_Price)')\n",
    "plt.ylabel('Precio de Venta (Selling_Price)')\n",
    "plt.show()"
   ]
  },
  {
   "cell_type": "markdown",
   "id": "ed978970",
   "metadata": {},
   "source": [
    "#### PREDICCIÓN DE NUEVOS RESULTADOS"
   ]
  },
  {
   "cell_type": "code",
   "execution_count": null,
   "id": "3a64ee85",
   "metadata": {},
   "outputs": [],
   "source": [
    "precio_nuevo = 7.5  # por ejemplo, auto nuevo cuesta 7.5 lakhs\n",
    "print(\"Lineal:\", lin_reg.predict([[precio_nuevo]]))\n",
    "print(\"Polinómica:\", lin_reg_2.predict(poly_reg.transform([[precio_nuevo]])))"
   ]
  }
 ],
 "metadata": {
  "language_info": {
   "name": "python"
  }
 },
 "nbformat": 4,
 "nbformat_minor": 5
}
